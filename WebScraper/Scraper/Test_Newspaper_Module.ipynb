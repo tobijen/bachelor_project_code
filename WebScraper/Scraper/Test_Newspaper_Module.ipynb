{
 "cells": [
  {
   "cell_type": "code",
   "execution_count": 1,
   "metadata": {},
   "outputs": [
    {
     "name": "stdout",
     "output_type": "stream",
     "text": [
      "\u001b[33mDEPRECATION: Configuring installation scheme with distutils config files is deprecated and will no longer work in the near future. If you are using a Homebrew or Linuxbrew Python, please see discussion at https://github.com/Homebrew/homebrew-core/issues/76621\u001b[0m\u001b[33m\n",
      "\u001b[0mRequirement already satisfied: newspaper3k in /usr/local/lib/python3.9/site-packages (0.2.8)\n",
      "Requirement already satisfied: cssselect>=0.9.2 in /usr/local/lib/python3.9/site-packages (from newspaper3k) (1.2.0)\n",
      "Requirement already satisfied: requests>=2.10.0 in /usr/local/lib/python3.9/site-packages (from newspaper3k) (2.27.1)\n",
      "Requirement already satisfied: python-dateutil>=2.5.3 in /usr/local/lib/python3.9/site-packages (from newspaper3k) (2.8.2)\n",
      "Requirement already satisfied: feedfinder2>=0.0.4 in /usr/local/lib/python3.9/site-packages (from newspaper3k) (0.0.4)\n",
      "Requirement already satisfied: tldextract>=2.0.1 in /usr/local/lib/python3.9/site-packages (from newspaper3k) (3.4.4)\n",
      "Requirement already satisfied: tinysegmenter==0.3 in /usr/local/lib/python3.9/site-packages (from newspaper3k) (0.3)\n",
      "Requirement already satisfied: beautifulsoup4>=4.4.1 in /usr/local/lib/python3.9/site-packages (from newspaper3k) (4.11.1)\n",
      "Requirement already satisfied: nltk>=3.2.1 in /Users/tobiasjennert/Library/Python/3.9/lib/python/site-packages (from newspaper3k) (3.7)\n",
      "Requirement already satisfied: feedparser>=5.2.1 in /usr/local/lib/python3.9/site-packages (from newspaper3k) (6.0.10)\n",
      "Requirement already satisfied: PyYAML>=3.11 in /usr/local/lib/python3.9/site-packages (from newspaper3k) (6.0)\n",
      "Requirement already satisfied: jieba3k>=0.35.1 in /usr/local/lib/python3.9/site-packages (from newspaper3k) (0.35.1)\n",
      "Requirement already satisfied: Pillow>=3.3.0 in /usr/local/lib/python3.9/site-packages (from newspaper3k) (9.1.1)\n",
      "Requirement already satisfied: lxml>=3.6.0 in /usr/local/lib/python3.9/site-packages (from newspaper3k) (4.8.0)\n",
      "Requirement already satisfied: soupsieve>1.2 in /usr/local/lib/python3.9/site-packages (from beautifulsoup4>=4.4.1->newspaper3k) (2.3.2.post1)\n",
      "Requirement already satisfied: six in /usr/local/lib/python3.9/site-packages (from feedfinder2>=0.0.4->newspaper3k) (1.15.0)\n",
      "Requirement already satisfied: sgmllib3k in /usr/local/lib/python3.9/site-packages (from feedparser>=5.2.1->newspaper3k) (1.0.0)\n",
      "Requirement already satisfied: tqdm in /Users/tobiasjennert/Library/Python/3.9/lib/python/site-packages (from nltk>=3.2.1->newspaper3k) (4.59.0)\n",
      "Requirement already satisfied: joblib in /Users/tobiasjennert/Library/Python/3.9/lib/python/site-packages (from nltk>=3.2.1->newspaper3k) (1.0.1)\n",
      "Requirement already satisfied: click in /Users/tobiasjennert/Library/Python/3.9/lib/python/site-packages (from nltk>=3.2.1->newspaper3k) (7.1.2)\n",
      "Requirement already satisfied: regex>=2021.8.3 in /Users/tobiasjennert/Library/Python/3.9/lib/python/site-packages (from nltk>=3.2.1->newspaper3k) (2022.6.2)\n",
      "Requirement already satisfied: certifi>=2017.4.17 in /usr/local/lib/python3.9/site-packages (from requests>=2.10.0->newspaper3k) (2021.10.8)\n",
      "Requirement already satisfied: idna<4,>=2.5 in /usr/local/lib/python3.9/site-packages (from requests>=2.10.0->newspaper3k) (3.3)\n",
      "Requirement already satisfied: charset-normalizer~=2.0.0 in /usr/local/lib/python3.9/site-packages (from requests>=2.10.0->newspaper3k) (2.0.12)\n",
      "Requirement already satisfied: urllib3<1.27,>=1.21.1 in /usr/local/lib/python3.9/site-packages (from requests>=2.10.0->newspaper3k) (1.26.9)\n",
      "Requirement already satisfied: requests-file>=1.4 in /usr/local/lib/python3.9/site-packages (from tldextract>=2.0.1->newspaper3k) (1.5.1)\n",
      "Requirement already satisfied: filelock>=3.0.8 in /usr/local/lib/python3.9/site-packages (from tldextract>=2.0.1->newspaper3k) (3.0.12)\n",
      "\u001b[33mDEPRECATION: Configuring installation scheme with distutils config files is deprecated and will no longer work in the near future. If you are using a Homebrew or Linuxbrew Python, please see discussion at https://github.com/Homebrew/homebrew-core/issues/76621\u001b[0m\u001b[33m\n",
      "\u001b[0m\n",
      "\u001b[1m[\u001b[0m\u001b[34;49mnotice\u001b[0m\u001b[1;39;49m]\u001b[0m\u001b[39;49m A new release of pip available: \u001b[0m\u001b[31;49m22.2.2\u001b[0m\u001b[39;49m -> \u001b[0m\u001b[32;49m23.1.2\u001b[0m\n",
      "\u001b[1m[\u001b[0m\u001b[34;49mnotice\u001b[0m\u001b[1;39;49m]\u001b[0m\u001b[39;49m To update, run: \u001b[0m\u001b[32;49mpython3.9 -m pip install --upgrade pip\u001b[0m\n"
     ]
    }
   ],
   "source": [
    "!pip install newspaper3k"
   ]
  },
  {
   "cell_type": "code",
   "execution_count": 2,
   "metadata": {},
   "outputs": [],
   "source": [
    "from newspaper import Article"
   ]
  },
  {
   "cell_type": "code",
   "execution_count": 9,
   "metadata": {},
   "outputs": [],
   "source": [
    "\n",
    "url = 'https://www.newsweek.com/hunter-biden-plea-deal-sparks-awkward-silence-democrats-1807961'\n",
    "article = Article(url)"
   ]
  },
  {
   "cell_type": "code",
   "execution_count": 10,
   "metadata": {},
   "outputs": [],
   "source": [
    "article.download()"
   ]
  },
  {
   "cell_type": "code",
   "execution_count": 11,
   "metadata": {},
   "outputs": [
    {
     "ename": "ArticleException",
     "evalue": "Article `download()` failed with 403 Client Error: Forbidden for url: https://www.newsweek.com/hunter-biden-plea-deal-sparks-awkward-silence-democrats-1807961 on URL https://www.newsweek.com/hunter-biden-plea-deal-sparks-awkward-silence-democrats-1807961",
     "output_type": "error",
     "traceback": [
      "\u001b[0;31m---------------------------------------------------------------------------\u001b[0m",
      "\u001b[0;31mArticleException\u001b[0m                          Traceback (most recent call last)",
      "\u001b[0;32m/var/folders/zq/jp8w61g90hjb23085zxdk5lw0000gn/T/ipykernel_29043/1782653012.py\u001b[0m in \u001b[0;36m<module>\u001b[0;34m\u001b[0m\n\u001b[0;32m----> 1\u001b[0;31m \u001b[0marticle\u001b[0m\u001b[0;34m.\u001b[0m\u001b[0mparse\u001b[0m\u001b[0;34m(\u001b[0m\u001b[0;34m)\u001b[0m\u001b[0;34m\u001b[0m\u001b[0;34m\u001b[0m\u001b[0m\n\u001b[0m",
      "\u001b[0;32m/usr/local/lib/python3.9/site-packages/newspaper/article.py\u001b[0m in \u001b[0;36mparse\u001b[0;34m(self)\u001b[0m\n\u001b[1;32m    189\u001b[0m \u001b[0;34m\u001b[0m\u001b[0m\n\u001b[1;32m    190\u001b[0m     \u001b[0;32mdef\u001b[0m \u001b[0mparse\u001b[0m\u001b[0;34m(\u001b[0m\u001b[0mself\u001b[0m\u001b[0;34m)\u001b[0m\u001b[0;34m:\u001b[0m\u001b[0;34m\u001b[0m\u001b[0;34m\u001b[0m\u001b[0m\n\u001b[0;32m--> 191\u001b[0;31m         \u001b[0mself\u001b[0m\u001b[0;34m.\u001b[0m\u001b[0mthrow_if_not_downloaded_verbose\u001b[0m\u001b[0;34m(\u001b[0m\u001b[0;34m)\u001b[0m\u001b[0;34m\u001b[0m\u001b[0;34m\u001b[0m\u001b[0m\n\u001b[0m\u001b[1;32m    192\u001b[0m \u001b[0;34m\u001b[0m\u001b[0m\n\u001b[1;32m    193\u001b[0m         \u001b[0mself\u001b[0m\u001b[0;34m.\u001b[0m\u001b[0mdoc\u001b[0m \u001b[0;34m=\u001b[0m \u001b[0mself\u001b[0m\u001b[0;34m.\u001b[0m\u001b[0mconfig\u001b[0m\u001b[0;34m.\u001b[0m\u001b[0mget_parser\u001b[0m\u001b[0;34m(\u001b[0m\u001b[0;34m)\u001b[0m\u001b[0;34m.\u001b[0m\u001b[0mfromstring\u001b[0m\u001b[0;34m(\u001b[0m\u001b[0mself\u001b[0m\u001b[0;34m.\u001b[0m\u001b[0mhtml\u001b[0m\u001b[0;34m)\u001b[0m\u001b[0;34m\u001b[0m\u001b[0;34m\u001b[0m\u001b[0m\n",
      "\u001b[0;32m/usr/local/lib/python3.9/site-packages/newspaper/article.py\u001b[0m in \u001b[0;36mthrow_if_not_downloaded_verbose\u001b[0;34m(self)\u001b[0m\n\u001b[1;32m    529\u001b[0m             \u001b[0;32mraise\u001b[0m \u001b[0mArticleException\u001b[0m\u001b[0;34m(\u001b[0m\u001b[0;34m'You must `download()` an article first!'\u001b[0m\u001b[0;34m)\u001b[0m\u001b[0;34m\u001b[0m\u001b[0;34m\u001b[0m\u001b[0m\n\u001b[1;32m    530\u001b[0m         \u001b[0;32melif\u001b[0m \u001b[0mself\u001b[0m\u001b[0;34m.\u001b[0m\u001b[0mdownload_state\u001b[0m \u001b[0;34m==\u001b[0m \u001b[0mArticleDownloadState\u001b[0m\u001b[0;34m.\u001b[0m\u001b[0mFAILED_RESPONSE\u001b[0m\u001b[0;34m:\u001b[0m\u001b[0;34m\u001b[0m\u001b[0;34m\u001b[0m\u001b[0m\n\u001b[0;32m--> 531\u001b[0;31m             raise ArticleException('Article `download()` failed with %s on URL %s' %\n\u001b[0m\u001b[1;32m    532\u001b[0m                   (self.download_exception_msg, self.url))\n\u001b[1;32m    533\u001b[0m \u001b[0;34m\u001b[0m\u001b[0m\n",
      "\u001b[0;31mArticleException\u001b[0m: Article `download()` failed with 403 Client Error: Forbidden for url: https://www.newsweek.com/hunter-biden-plea-deal-sparks-awkward-silence-democrats-1807961 on URL https://www.newsweek.com/hunter-biden-plea-deal-sparks-awkward-silence-democrats-1807961"
     ]
    }
   ],
   "source": [
    "article.parse()"
   ]
  },
  {
   "cell_type": "code",
   "execution_count": 10,
   "metadata": {},
   "outputs": [
    {
     "data": {
      "text/plain": [
       "'FILE - The Reddit app icon is seen on a smartphone on Feb. 28, 2023, in Marple Township, Pa. More than 8,000 subreddits, or Reddit communities, have gone dark as of Tuesday, June 13, in protest of upcoming API changes, which include a controversial policy that will charge some third-party apps for continued use. (AP Photo/Matt Slocum, File)\\n\\nFILE - The Reddit app icon is seen on a smartphone on Feb. 28, 2023, in Marple Township, Pa. More than 8,000 subreddits, or Reddit communities, have gone dark as of Tuesday, June 13, in protest of upcoming API changes, which include a controversial policy that will charge some third-party apps for continued use. (AP Photo/Matt Slocum, File)\\n\\nFILE - The Reddit app icon is seen on a smartphone on Feb. 28, 2023, in Marple Township, Pa. More than 8,000 subreddits, or Reddit communities, have gone dark as of Tuesday, June 13, in protest of upcoming API changes, which include a controversial policy that will charge some third-party apps for continued use. (AP Photo/Matt Slocum, File)\\n\\nFILE - The Reddit app icon is seen on a smartphone on Feb. 28, 2023, in Marple Township, Pa. More than 8,000 subreddits, or Reddit communities, have gone dark as of Tuesday, June 13, in protest of upcoming API changes, which include a controversial policy that will charge some third-party apps for continued use. (AP Photo/Matt Slocum, File)\\n\\nThousands of Reddit communities went dark this week in protest of upcoming API changes, which include a controversial policy that will charge some third-party apps for continued use\\n\\nWASHINGTON -- Thousands of Reddit discussion forums have gone dark this week to protest a new policy that will charge some third-party apps to access data on the site, leading to worries about content moderation and accessibility.\\n\\n“Reddit is killing third-party applications (and itself),\" multiple subreddits wrote in posts seen on the platform\\'s homepage this week.\\n\\nThe new fees are part of broader changes to Reddit\\'s API, or application programming interface, that the company announced recently.\\n\\nOrganizers of the blackout, which began Monday, say Reddit\\'s changes threaten to end key ways of historically customizing the platform — which relies heavily on the work of volunteer moderators. Subreddit “mods\" often use tools outside of the official app to keep their forums free of spam and hateful content, for example, as well as improve accessibility.\\n\\nNearly 9,000 subreddits went dark this week and more than 4,000 remained dark on Friday, including communities with tens of millions of subscribers like r/music and r/videos — according to a tracker of the boycott. While some returned to their public settings after 48 hours, others say they will stay private indefinitely, until Reddit meets their demands.\\n\\nBut Reddit, a subsidiary of New York-based Advance Publications, is not changing course. CEO Steve Huffman says that supporting high-usage third-party developers to access its data is too expensive. The company also notes that the new fees will only apply to eligible apps that require high usage limits, and the majority of API users will not have to pay for access.\\n\\nHere\\'s what you need to know.\\n\\nWHAT IS API? AND HOW IS REDDIT CHANGING ACCESS TO THIRD-PARTY APPS?\\n\\nIn short, an API allows computer programs to communicate with each another. Third parties have used Reddit\\'s free API access in the past, for example, to request data and build apps that work with the platform.\\n\\nBut Reddit announced it would be changing its API access polices earlier this year. Starting July 1, Reddit plans to charge third-party apps requiring higher usage limits.\\n\\n\"Running a product like reddit is expensive,\" Huffman told The Associated Press, pointing to the millions of dollars Reddit spends on supporting high-usage, third-party apps. “I would like to be a self-sustaining company — it means we’re defensible.... and it that we can endure into the future. So that’s what we’re working towards.”\\n\\nNot all third-party apps will be charged, as the policy is based on usage levels, and some noncommercial, accessibility-focused apps can also continue with free access, the company said. Reddit also noted that API access will remain free for moderator tools and bots.\\n\\nWHY ARE SUBREDDITS PROTESTING THIS CHANGE?\\n\\nReddit\\'s API changes have caused outrage — as many Redditors say they are concerned about losing long-used third-party resources. Popular third party apps, including Apollo and Reddit Is Fun, have already announced plans to shut down at the end of the month due to costs of the API changes — with Apollo developer Christian Selig estimating fees would total about $20 million a year.\\n\\nReddit\\'s backbone of volunteer moderators who rely on these and similar apps will likely feel the brunt of the impacts, experts note.\\n\\n“While Reddit has promised that moderation tools will not be affected by changes to the API, many moderators rely on third party apps and access to data archives to effectively do their work,” Sarah Gilbert, postdoctoral associate at Cornell University and Citizens and Technology Lab research manager, said in a statement — later pointing to how risks of moderator burnout and essential retention.\\n\\nGilbert added that API access helps moderators keep communities safe and “more quickly respond to spam, bigotry, and harassment.” Third-party apps are also important for screen readers, she said, as the official Reddit app is not accessible for people who are visually impaired.\\n\\nWHEN WILL THE REDDIT BLACKOUT END?\\n\\nSome subreddits participating in this week\\'s blackout returned to Reddit in 48 hours, but others say their protest isn\\'t over.\\n\\nNumerous subreddits have signaled that they planned to stay private until Reddit meets their demands — which include lowering the API charges for high usage, third-party developers so that popular apps can stay alive.\\n\\nBut Huffman said he is holding firm. He also said that the subreddits currently participating in the blackout are “not going to stay offline indefinitely” — even if that means finding new moderators.\\n\\nThe company’s response to the blackout has fueled further outrage among protest organizers.\\n\\n“We continue to ask reddit to place these changes on pause and explore a real path forward that strikes a balance that is best for the widest range of reddit users,” read a Thursday night post on subreddit dedicated to moderator coordination.\\n\\nBeyond Reddit, ended free API access earlier this year, in a move that also sparked outrage.'"
      ]
     },
     "execution_count": 10,
     "metadata": {},
     "output_type": "execute_result"
    }
   ],
   "source": [
    "article.text"
   ]
  },
  {
   "cell_type": "code",
   "execution_count": null,
   "metadata": {},
   "outputs": [],
   "source": []
  }
 ],
 "metadata": {
  "kernelspec": {
   "display_name": "Python 3 (ipykernel)",
   "language": "python",
   "name": "python3"
  },
  "language_info": {
   "codemirror_mode": {
    "name": "ipython",
    "version": 3
   },
   "file_extension": ".py",
   "mimetype": "text/x-python",
   "name": "python",
   "nbconvert_exporter": "python",
   "pygments_lexer": "ipython3",
   "version": "3.9.14"
  }
 },
 "nbformat": 4,
 "nbformat_minor": 2
}
